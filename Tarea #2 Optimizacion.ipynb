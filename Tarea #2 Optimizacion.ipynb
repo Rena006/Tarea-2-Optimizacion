{
 "cells": [
  {
   "cell_type": "code",
   "execution_count": 3,
   "id": "e66cc44f",
   "metadata": {},
   "outputs": [
    {
     "name": "stdout",
     "output_type": "stream",
     "text": [
      "Requirement already satisfied: pulp in c:\\users\\r\\anaconda3\\envs\\name_of_my_env\\lib\\site-packages (2.5.1)\n"
     ]
    }
   ],
   "source": [
    "!pip install pulp"
   ]
  },
  {
   "cell_type": "code",
   "execution_count": 4,
   "id": "7a75bfe6",
   "metadata": {},
   "outputs": [
    {
     "ename": "ModuleNotFoundError",
     "evalue": "No module named 'numpy'",
     "output_type": "error",
     "traceback": [
      "\u001b[1;31m---------------------------------------------------------------------------\u001b[0m",
      "\u001b[1;31mModuleNotFoundError\u001b[0m                       Traceback (most recent call last)",
      "\u001b[1;32m<ipython-input-4-9faa332d4db4>\u001b[0m in \u001b[0;36m<module>\u001b[1;34m\u001b[0m\n\u001b[1;32m----> 1\u001b[1;33m \u001b[1;32mfrom\u001b[0m \u001b[0mnumpy\u001b[0m \u001b[1;32mimport\u001b[0m\u001b[1;33m*\u001b[0m\u001b[1;33m\u001b[0m\u001b[1;33m\u001b[0m\u001b[0m\n\u001b[0m",
      "\u001b[1;31mModuleNotFoundError\u001b[0m: No module named 'numpy'"
     ]
    }
   ],
   "source": [
    "from numpy import*\n",
    "import numpy as np"
   ]
  },
  {
   "cell_type": "code",
   "execution_count": null,
   "id": "4c1b639a",
   "metadata": {},
   "outputs": [],
   "source": [
    "import matplotlib.pyplot as plt4\n",
    "import pulp"
   ]
  },
  {
   "cell_type": "code",
   "execution_count": 7,
   "id": "f7ecfa37",
   "metadata": {},
   "outputs": [
    {
     "ename": "NameError",
     "evalue": "name 'np' is not defined",
     "output_type": "error",
     "traceback": [
      "\u001b[1;31m---------------------------------------------------------------------------\u001b[0m",
      "\u001b[1;31mNameError\u001b[0m                                 Traceback (most recent call last)",
      "\u001b[1;32m<ipython-input-7-c436d79dd49c>\u001b[0m in \u001b[0;36m<module>\u001b[1;34m\u001b[0m\n\u001b[0;32m      3\u001b[0m \u001b[1;33m\u001b[0m\u001b[0m\n\u001b[0;32m      4\u001b[0m \u001b[1;33m\u001b[0m\u001b[0m\n\u001b[1;32m----> 5\u001b[1;33m prio =  np.array([0,1,1,1,2,4,5,5],\n\u001b[0m\u001b[0;32m      6\u001b[0m         \u001b[1;33m[\u001b[0m\u001b[1;36m1\u001b[0m\u001b[1;33m,\u001b[0m\u001b[1;36m0\u001b[0m\u001b[1;33m,\u001b[0m\u001b[1;36m3\u001b[0m\u001b[1;33m,\u001b[0m\u001b[1;36m4\u001b[0m\u001b[1;33m,\u001b[0m\u001b[1;36m5\u001b[0m\u001b[1;33m,\u001b[0m\u001b[1;36m5\u001b[0m\u001b[1;33m,\u001b[0m\u001b[1;36m5\u001b[0m\u001b[1;33m,\u001b[0m\u001b[1;36m5\u001b[0m\u001b[1;33m]\u001b[0m\u001b[1;33m,\u001b[0m\u001b[1;33m\u001b[0m\u001b[1;33m\u001b[0m\u001b[0m\n\u001b[0;32m      7\u001b[0m         \u001b[1;33m[\u001b[0m\u001b[1;36m5\u001b[0m\u001b[1;33m,\u001b[0m\u001b[1;36m1\u001b[0m\u001b[1;33m,\u001b[0m\u001b[1;36m0\u001b[0m\u001b[1;33m,\u001b[0m\u001b[1;36m3\u001b[0m\u001b[1;33m,\u001b[0m\u001b[1;36m5\u001b[0m\u001b[1;33m,\u001b[0m\u001b[1;36m5\u001b[0m\u001b[1;33m,\u001b[0m\u001b[1;36m5\u001b[0m\u001b[1;33m,\u001b[0m\u001b[1;36m5\u001b[0m\u001b[1;33m]\u001b[0m\u001b[1;33m,\u001b[0m\u001b[1;33m\u001b[0m\u001b[1;33m\u001b[0m\u001b[0m\n",
      "\u001b[1;31mNameError\u001b[0m: name 'np' is not defined"
     ]
    }
   ],
   "source": [
    "# Definimos nuestra lista de empresarios y matrix de prioridad\n",
    "# emp = [1,2,3,4,5,6,7,8]\n",
    "\n",
    "\n",
    "prio =  np.array([0,1,1,1,2,4,5,5],\n",
    "        [1,0,3,4,5,5,5,5],\n",
    "        [5,1,0,3,5,5,5,5],\n",
    "        [3,3,3,0,3,3,3,5],\n",
    "        [5,5,5,5,0,5,5,5],\n",
    "        [5,1,1,1,1,0,1,5],\n",
    "        [5,4,4,4,4,4,0,5],\n",
    "        [5,1,2,2,3,4,1,0])\n",
    "        \n",
    "        \n",
    "        \n",
    "set_D = range(0,prio.shape[0])\n",
    "set_I = range(0, prio.shape[1])\n",
    "# Definimos nuestra problema# Definimos nuestra variable\n",
    "reu = pulp.LpVariable.dicts(\"Reunion\",set_I,cat=\"Binary\")\n",
    "modelo = pulp.LpProblem('modelo',pulp.LpMaximize)\n",
    "\n",
    "modelo += lpSum([reu[i] for i in set_I])\n",
    "\n",
    "\n",
    "# Definimos nuestra funcion objetivo\n",
    "for d in set_D:\n",
    "    for i in set_I:\n",
    "        modelo += reu[i] - pulp*lpSum([prio[d][i][j]*reu[j] for j in set_I]) \n",
    "\n",
    "# Solve problem\n",
    "modelo.solve()\n",
    "\n",
    "# Print results:\n",
    "V_soln = np.array([reu[i].varValue for i in set_I])\n",
    "print ((\"Status:\"), LpStatus[modelo.status])\n",
    "print(\"V_soln: \")\n",
    "print(V_soln)"
   ]
  },
  {
   "cell_type": "code",
   "execution_count": null,
   "id": "07c4c74f",
   "metadata": {},
   "outputs": [
    {
     "name": "stdout",
     "output_type": "stream",
     "text": [
      "394\n"
     ]
    }
   ],
   "source": [
    "prioridad = [[0,1,1,1,2,4,5,5],\n",
    "             [1,0,3,4,5,5,5,5],\n",
    "             [5,1,0,3,5,5,5,5],\n",
    "             [3,3,3,0,3,3,3,5],\n",
    "             [5,5,5,5,0,5,5,5],\n",
    "             [5,1,1,1,1,0,1,5],\n",
    "             [5,4,4,4,4,4,0,5],\n",
    "             [5,1,2,2,3,4,1,0]]\n",
    "x = 2\n",
    "print (sum(prioridad*x))"
   ]
  },
  {
   "cell_type": "code",
   "execution_count": null,
   "id": "d7f71627",
   "metadata": {},
   "outputs": [],
   "source": []
  }
 ],
 "metadata": {
  "interpreter": {
   "hash": "69aa733c406e8ec2035d84010fb5c38b805a921bade8fadc8e09805b87631608"
  },
  "kernelspec": {
   "display_name": "Python 3.8.5 64-bit ('name_of_my_env': conda)",
   "name": "python3"
  },
  "language_info": {
   "codemirror_mode": {
    "name": "ipython",
    "version": 3
   },
   "file_extension": ".py",
   "mimetype": "text/x-python",
   "name": "python",
   "nbconvert_exporter": "python",
   "pygments_lexer": "ipython3",
   "version": "3.8.5"
  }
 },
 "nbformat": 4,
 "nbformat_minor": 5
}
